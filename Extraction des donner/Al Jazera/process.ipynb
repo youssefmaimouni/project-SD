{
 "cells": [
  {
   "cell_type": "code",
   "execution_count": 1,
   "metadata": {},
   "outputs": [
    {
     "name": "stdout",
     "output_type": "stream",
     "text": [
      "                                                  Title  \\\n",
      "0     صراع محتمل بين قاعدة ترامب الشعبية وأنصاره من ...   \n",
      "1     واشنطن بوست: مثول ترامب أمام قاضي نيويورك مشهد...   \n",
      "2     أوضاع إنسانية متردية في دير الزور وسط ضعف الاس...   \n",
      "3         رايتس ووتش تنتقد \"سحق الفضاء المدني\" في ليبيا   \n",
      "4      هذه خيارات أنقرة في ظل التحولات الميدانية بسوريا   \n",
      "...                                                 ...   \n",
      "5049  عائلات الأسرى الإسرائيليين: نتنياهو لم يعلن ال...   \n",
      "5050  شهيد برصاص الاحتلال في طولكرم والطيران الحربي ...   \n",
      "5051  \"موند أفريك\": هؤلاء الطغاة الذين صنعوا مصائب أ...   \n",
      "5052  معاريف: نتنياهو في واشنطن والأرض تحترق تحت قدم...   \n",
      "5053  هل يستطيع الرئيس رامافوزا النجاة من نكسة حزب ا...   \n",
      "\n",
      "                                                Content  \n",
      "0     في أولى جولات الصراع التي تخرج للعلن بين قاعدة...  \n",
      "1     أفادت صحيفة واشنطن بوست أن الرئيس الأميركي الم...  \n",
      "2     دير الزور-تشهد محافظةدير الزورشرقيسورياأوضاعا ...  \n",
      "3     اتهمت هيومن رايتس ووتش السلطات الليبية باستهدا...  \n",
      "4     أنقرة-بينما تشهدسورياتحولات ميدانية كبيرة، تجد...  \n",
      "...                                                 ...  \n",
      "5049  انتقدت هيئة عائلات الأسرى الإسرائيليين المحتجز...  \n",
      "5050  أعلنت وزارة الصحة الفلسطينية استشهاد شاب برصاص...  \n",
      "5051                                                     \n",
      "5052  في وقت يعقد فيه رئيس الوزراء الإسرائيليبنيامين...  \n",
      "5053  شولا لاوال-خسر حزب المؤتمر الوطني الأفريقي الح...  \n",
      "\n",
      "[5054 rows x 2 columns]\n",
      "                                           Article Link       Date\n",
      "0     https://www.aljazeera.net/politics/2025/1/5/%D...   2025/1/5\n",
      "1     https://www.aljazeera.net/politics/2025/1/5/%D...   2025/1/5\n",
      "2     https://www.aljazeera.net/politics/2025/2/2/%D...   2025/2/2\n",
      "3     https://www.aljazeera.net/news/2025/1/27/%D8%B...  2025/1/27\n",
      "4     https://www.aljazeera.net/politics/2024/12/3/%...  2024/12/3\n",
      "...                                                 ...        ...\n",
      "5049  https://www.aljazeera.net/news/2025/1/25/%D8%B...  2025/1/25\n",
      "5050  https://www.aljazeera.net/news/2025/1/29/%D8%B...  2025/1/29\n",
      "5051  https://www.aljazeera.net/politics/2020/2/4/%D...   2020/2/4\n",
      "5052  https://www.aljazeera.net/news/2025/2/4/%D9%85...   2025/2/4\n",
      "5053  https://www.aljazeera.net/politics/2024/6/2/%D...   2024/6/2\n",
      "\n",
      "[5054 rows x 2 columns]\n",
      "Dates appended successfully to 'new_articles.csv'.\n"
     ]
    }
   ],
   "source": [
    "import pandas as pd\n",
    "import re\n",
    "\n",
    "# Read the URLs from 'first_half.csv'\n",
    "df_urls = pd.read_csv('article_links.csv', encoding='utf-8')\n",
    "\n",
    "# Function to extract the date from the URL\n",
    "def extract_date(url):\n",
    "    match = re.search(r'(\\d{4}/\\d{1,2}/\\d{1,2})', url)\n",
    "    if match:\n",
    "        return match.group(1)\n",
    "    return None\n",
    "\n",
    "# Apply the date extraction function to the 'Article Link' column\n",
    "df_urls['Date'] = df_urls['Article Link'].apply(extract_date)\n",
    "\n",
    "# Read the scraped_articles.csv which contains 'Title' and 'Content'\n",
    "df_articles = pd.read_csv('new_articles.csv', encoding='utf-8')\n",
    "\n",
    "# Ensure both DataFrames have the same number of rows\n",
    "print(df_articles)\n",
    "print(df_urls)\n",
    "if len(df_articles) != len(df_urls):\n",
    "    print(\"Warning: The number of articles and URLs don't match.\")\n",
    "else:\n",
    "    # Add the Date column from df_urls to df_articles\n",
    "    df_articles['Date'] = df_urls['Date']\n",
    "\n",
    "    # Save the updated DataFrame back to scraped_articles.csv\n",
    "    df_articles.to_csv('new_articles.csv', index=False, encoding='utf-8')\n",
    "    print(\"Dates appended successfully to 'new_articles.csv'.\")\n",
    "\n",
    "\n",
    "\n"
   ]
  },
  {
   "cell_type": "code",
   "execution_count": 6,
   "metadata": {},
   "outputs": [
    {
     "name": "stdout",
     "output_type": "stream",
     "text": [
      "Total rows: 9990\n",
      "Number of duplicated rows based on 'Title': 3993\n"
     ]
    }
   ],
   "source": [
    "import pandas as pd\n",
    "\n",
    "# Load the CSV file\n",
    "df = pd.read_csv('aljazira_articles.csv')  # Replace with your file name\n",
    "\n",
    "# Count duplicates based on the 'Title' column\n",
    "duplicate_titles = df.duplicated(subset='Content', keep=False)  # Mark all duplicates\n",
    "\n",
    "# Count total duplicates\n",
    "duplicate_count = duplicate_titles.sum()\n",
    "\n",
    "# Print results\n",
    "print(f\"Total rows: {len(df)}\")\n",
    "print(f\"Number of duplicated rows based on 'Title': {duplicate_count}\")\n"
   ]
  },
  {
   "cell_type": "code",
   "execution_count": null,
   "metadata": {},
   "outputs": [],
   "source": []
  }
 ],
 "metadata": {
  "kernelspec": {
   "display_name": "base",
   "language": "python",
   "name": "python3"
  },
  "language_info": {
   "codemirror_mode": {
    "name": "ipython",
    "version": 3
   },
   "file_extension": ".py",
   "mimetype": "text/x-python",
   "name": "python",
   "nbconvert_exporter": "python",
   "pygments_lexer": "ipython3",
   "version": "3.11.7"
  }
 },
 "nbformat": 4,
 "nbformat_minor": 2
}
