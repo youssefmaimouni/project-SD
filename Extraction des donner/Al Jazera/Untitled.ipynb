{
 "cells": [
  {
   "cell_type": "code",
   "execution_count": 1,
   "id": "6faaa31e-f8e7-4d20-9cf5-083a2d8f38c2",
   "metadata": {},
   "outputs": [],
   "source": [
    "import pandas as pd"
   ]
  },
  {
   "cell_type": "code",
   "execution_count": 3,
   "id": "c90d12a9-7ec3-45a3-b9d0-74f3ab5a12fa",
   "metadata": {},
   "outputs": [
    {
     "data": {
      "text/html": [
       "<div>\n",
       "<style scoped>\n",
       "    .dataframe tbody tr th:only-of-type {\n",
       "        vertical-align: middle;\n",
       "    }\n",
       "\n",
       "    .dataframe tbody tr th {\n",
       "        vertical-align: top;\n",
       "    }\n",
       "\n",
       "    .dataframe thead th {\n",
       "        text-align: right;\n",
       "    }\n",
       "</style>\n",
       "<table border=\"1\" class=\"dataframe\">\n",
       "  <thead>\n",
       "    <tr style=\"text-align: right;\">\n",
       "      <th></th>\n",
       "      <th>Title</th>\n",
       "      <th>Content</th>\n",
       "      <th>Date</th>\n",
       "    </tr>\n",
       "  </thead>\n",
       "  <tbody>\n",
       "    <tr>\n",
       "      <th>0</th>\n",
       "      <td>الإفراج عن صحفي تونسي بارز من معارضي سعيد</td>\n",
       "      <td>أفرجت محكمة تونسية، اليوم الخميس، عن الصحفي ال...</td>\n",
       "      <td>2025/2/20</td>\n",
       "    </tr>\n",
       "    <tr>\n",
       "      <th>1</th>\n",
       "      <td>أكثر من 111 ألف جريح في غزة ينتظرون العلاج</td>\n",
       "      <td>نشر مكتب الأسرى والجرحى والشهداء في غزة، اليوم...</td>\n",
       "      <td>2025/2/20</td>\n",
       "    </tr>\n",
       "    <tr>\n",
       "      <th>2</th>\n",
       "      <td>المبعوثة الأممية الجديدة: لن ندخر أي جهد لإحلا...</td>\n",
       "      <td>تعهدت مبعوثةالأمم المتحدةالجديدة إلىليبياهانا ...</td>\n",
       "      <td>2025/2/20</td>\n",
       "    </tr>\n",
       "    <tr>\n",
       "      <th>3</th>\n",
       "      <td>حماس تتهم نتنياهو بالمماطلة وويتكوف يدافع عن خ...</td>\n",
       "      <td>اتهمت حركة المقاومة الإسلامية (حماس) رئيس الوز...</td>\n",
       "      <td>2025/2/20</td>\n",
       "    </tr>\n",
       "    <tr>\n",
       "      <th>4</th>\n",
       "      <td>رئيس البرازيل يتهم ترامب بتقديم نفسه \"إمبراطور...</td>\n",
       "      <td>اتهم الرئيس البرازيليلولا دا سيلفانظيره الأمير...</td>\n",
       "      <td>2025/2/20</td>\n",
       "    </tr>\n",
       "    <tr>\n",
       "      <th>...</th>\n",
       "      <td>...</td>\n",
       "      <td>...</td>\n",
       "      <td>...</td>\n",
       "    </tr>\n",
       "    <tr>\n",
       "      <th>9985</th>\n",
       "      <td>عائلات الأسرى الإسرائيليين: نتنياهو لم يعلن ال...</td>\n",
       "      <td>انتقدت هيئة عائلات الأسرى الإسرائيليين المحتجز...</td>\n",
       "      <td>2025/1/25</td>\n",
       "    </tr>\n",
       "    <tr>\n",
       "      <th>9986</th>\n",
       "      <td>شهيد برصاص الاحتلال في طولكرم والطيران الحربي ...</td>\n",
       "      <td>أعلنت وزارة الصحة الفلسطينية استشهاد شاب برصاص...</td>\n",
       "      <td>2025/1/29</td>\n",
       "    </tr>\n",
       "    <tr>\n",
       "      <th>9987</th>\n",
       "      <td>\"موند أفريك\": هؤلاء الطغاة الذين صنعوا مصائب أ...</td>\n",
       "      <td></td>\n",
       "      <td>2020/2/4</td>\n",
       "    </tr>\n",
       "    <tr>\n",
       "      <th>9988</th>\n",
       "      <td>معاريف: نتنياهو في واشنطن والأرض تحترق تحت قدم...</td>\n",
       "      <td>في وقت يعقد فيه رئيس الوزراء الإسرائيليبنيامين...</td>\n",
       "      <td>2025/2/4</td>\n",
       "    </tr>\n",
       "    <tr>\n",
       "      <th>9989</th>\n",
       "      <td>هل يستطيع الرئيس رامافوزا النجاة من نكسة حزب ا...</td>\n",
       "      <td>شولا لاوال-خسر حزب المؤتمر الوطني الأفريقي الح...</td>\n",
       "      <td>2024/6/2</td>\n",
       "    </tr>\n",
       "  </tbody>\n",
       "</table>\n",
       "<p>9990 rows × 3 columns</p>\n",
       "</div>"
      ],
      "text/plain": [
       "                                                  Title  \\\n",
       "0             الإفراج عن صحفي تونسي بارز من معارضي سعيد   \n",
       "1            أكثر من 111 ألف جريح في غزة ينتظرون العلاج   \n",
       "2     المبعوثة الأممية الجديدة: لن ندخر أي جهد لإحلا...   \n",
       "3     حماس تتهم نتنياهو بالمماطلة وويتكوف يدافع عن خ...   \n",
       "4     رئيس البرازيل يتهم ترامب بتقديم نفسه \"إمبراطور...   \n",
       "...                                                 ...   \n",
       "9985  عائلات الأسرى الإسرائيليين: نتنياهو لم يعلن ال...   \n",
       "9986  شهيد برصاص الاحتلال في طولكرم والطيران الحربي ...   \n",
       "9987  \"موند أفريك\": هؤلاء الطغاة الذين صنعوا مصائب أ...   \n",
       "9988  معاريف: نتنياهو في واشنطن والأرض تحترق تحت قدم...   \n",
       "9989  هل يستطيع الرئيس رامافوزا النجاة من نكسة حزب ا...   \n",
       "\n",
       "                                                Content       Date  \n",
       "0     أفرجت محكمة تونسية، اليوم الخميس، عن الصحفي ال...  2025/2/20  \n",
       "1     نشر مكتب الأسرى والجرحى والشهداء في غزة، اليوم...  2025/2/20  \n",
       "2     تعهدت مبعوثةالأمم المتحدةالجديدة إلىليبياهانا ...  2025/2/20  \n",
       "3     اتهمت حركة المقاومة الإسلامية (حماس) رئيس الوز...  2025/2/20  \n",
       "4     اتهم الرئيس البرازيليلولا دا سيلفانظيره الأمير...  2025/2/20  \n",
       "...                                                 ...        ...  \n",
       "9985  انتقدت هيئة عائلات الأسرى الإسرائيليين المحتجز...  2025/1/25  \n",
       "9986  أعلنت وزارة الصحة الفلسطينية استشهاد شاب برصاص...  2025/1/29  \n",
       "9987                                                      2020/2/4  \n",
       "9988  في وقت يعقد فيه رئيس الوزراء الإسرائيليبنيامين...   2025/2/4  \n",
       "9989  شولا لاوال-خسر حزب المؤتمر الوطني الأفريقي الح...   2024/6/2  \n",
       "\n",
       "[9990 rows x 3 columns]"
      ]
     },
     "execution_count": 3,
     "metadata": {},
     "output_type": "execute_result"
    }
   ],
   "source": [
    "df=pd.read_csv('aljazira_articles.csv')\n",
    "df"
   ]
  },
  {
   "cell_type": "code",
   "execution_count": 5,
   "id": "2b8b835f-eef6-4399-8f20-17be144192a3",
   "metadata": {},
   "outputs": [
    {
     "data": {
      "text/plain": [
       "48"
      ]
     },
     "execution_count": 5,
     "metadata": {},
     "output_type": "execute_result"
    }
   ],
   "source": [
    "df.duplicated().sum()"
   ]
  },
  {
   "cell_type": "code",
   "execution_count": 7,
   "id": "a3442dc0-9392-427c-962a-9d6eef7b89fe",
   "metadata": {},
   "outputs": [
    {
     "data": {
      "text/plain": [
       "Title      0\n",
       "Content    6\n",
       "Date       3\n",
       "dtype: int64"
      ]
     },
     "execution_count": 7,
     "metadata": {},
     "output_type": "execute_result"
    }
   ],
   "source": [
    "df.isnull().sum()"
   ]
  },
  {
   "cell_type": "code",
   "execution_count": null,
   "id": "e022c333-d283-4642-be4e-6cf6dbb93638",
   "metadata": {},
   "outputs": [],
   "source": []
  }
 ],
 "metadata": {
  "kernelspec": {
   "display_name": "Python 3 (ipykernel)",
   "language": "python",
   "name": "python3"
  },
  "language_info": {
   "codemirror_mode": {
    "name": "ipython",
    "version": 3
   },
   "file_extension": ".py",
   "mimetype": "text/x-python",
   "name": "python",
   "nbconvert_exporter": "python",
   "pygments_lexer": "ipython3",
   "version": "3.12.4"
  }
 },
 "nbformat": 4,
 "nbformat_minor": 5
}
