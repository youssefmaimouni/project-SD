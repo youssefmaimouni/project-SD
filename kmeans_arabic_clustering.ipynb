{
 "cells": [
  {
   "cell_type": "code",
   "execution_count": 1,
   "id": "85e5a514-2563-41f9-a8ef-d4948e243f88",
   "metadata": {},
   "outputs": [],
   "source": [
    "# 📦 Étape 1 : Imports\n",
    "import pandas as pd\n",
    "import numpy as np\n",
    "from sklearn.preprocessing import OneHotEncoder, MinMaxScaler\n",
    "from sklearn.cluster import KMeans\n",
    "from sklearn.decomposition import PCA\n",
    "import matplotlib.pyplot as plt\n",
    "import seaborn as sns\n",
    "\n",
    "from transformers import AutoTokenizer, AutoModel\n",
    "import torch\n",
    "from tqdm import tqdm\n",
    "\n",
    "import datetime"
   ]
  },
  {
   "cell_type": "code",
   "execution_count": 2,
   "id": "c147b87d-2d27-4850-964d-cbdf2ce95fb8",
   "metadata": {},
   "outputs": [
    {
     "name": "stdout",
     "output_type": "stream",
     "text": [
      "      source                                              title  \\\n",
      "0  France_24  الألعاب الأولمبية: الملاكمة خليف تبلغ ربع النه...   \n",
      "1  France_24  محطة أفريقيا في الألعاب الأولمبية بباريس: \"خيم...   \n",
      "2  France_24  تنديدا باغتيال هنية... مظاهرات مناهضة لإسرائيل...   \n",
      "3  France_24  إسرائيل \"تغتال\" صحفيا ومصورا من قناة الجزيرة ف...   \n",
      "4  France_24  خليل الحية عن اغتيال هنية.. هذه جريمة لا بد لم...   \n",
      "\n",
      "                                                 url published_at  \\\n",
      "0  https://www.france24.com/ar/%D8%B1%D9%8A%D8%A7...   2024-08-01   \n",
      "1  https://www.france24.com/ar/%D8%B1%D9%8A%D8%A7...   2024-08-01   \n",
      "2  https://www.france24.com/ar/%D8%A7%D9%84%D8%B4...   2024-08-01   \n",
      "3  https://www.france24.com/ar/%D9%81%D9%8A%D8%AF...   2024-08-01   \n",
      "4  https://www.france24.com/ar/%D9%81%D9%8A%D8%AF...   2024-08-01   \n",
      "\n",
      "                tags                                            content  \n",
      "0              رياضة  تغلبت الملاكمة الجزائرية إيمان خليف على خصمتها...  \n",
      "1              رياضة  موفد فرانس24 إلى سان دوني – تتواصل فعاليات معر...  \n",
      "2       الشرق الأوسط  تظاهر آلاف الأشخاص في تركيا والمغرب وتونس تندي...  \n",
      "3  الأخبار المغاربية  دانت قناة الجزيرة القطرية الأربعاء \"اغتيال\" اث...  \n",
      "4  الأخبار المغاربية  خليل الحية القيادي في حماس: الحركة وإيران لا ت...  \n",
      "Index(['source', 'title', 'url', 'published_at', 'tags', 'content'], dtype='object')\n"
     ]
    }
   ],
   "source": [
    "# 📁 Étape 2 : Chargement des données\n",
    "df = pd.read_csv(\"full_data_fusionne.csv\")\n",
    "\n",
    "# 👀 Aperçu\n",
    "print(df.head())\n",
    "print(df.columns)"
   ]
  },
  {
   "cell_type": "code",
   "execution_count": 3,
   "id": "2135b957-5a4b-43df-91b7-26eb3ff17bdd",
   "metadata": {},
   "outputs": [],
   "source": [
    "# 🧼 Étape 3 : Prétraitement du texte\n",
    "def clean_text(text):\n",
    "    if pd.isnull(text):\n",
    "        return \"\"\n",
    "    text = str(text).strip()\n",
    "    return text\n",
    "\n",
    "df['title'] = df['title'].apply(clean_text)\n",
    "df['content'] = df['content'].apply(clean_text)\n",
    "df['full_text'] = df['title'] + \" \" + df['content']\n",
    "\n",
    "# 🕰️ Traitement de la date\n",
    "df['published_at'] = pd.to_datetime(df['published_at'], errors='coerce')\n",
    "df['timestamp'] = df['published_at'].astype(np.int64) // 10**9  # timestamp in seconds"
   ]
  },
  {
   "cell_type": "code",
   "execution_count": null,
   "id": "adba5051-dce9-4b84-af31-0c3095b66351",
   "metadata": {},
   "outputs": [
    {
     "data": {
      "application/vnd.jupyter.widget-view+json": {
       "model_id": "7ba68436df24481bb07482598f8fea6b",
       "version_major": 2,
       "version_minor": 0
      },
      "text/plain": [
       "Vectorisation BERT:   0%|                                                 | 0/41554 [00:00<?, ?it/s]"
      ]
     },
     "metadata": {},
     "output_type": "display_data"
    }
   ],
   "source": [
    "# 🧠 Étape 4 : Vectorisation BERT multilingue avec asafaya/bert-base-arabic\n",
    "\n",
    "import torch\n",
    "import numpy as np\n",
    "from transformers import AutoTokenizer, AutoModel\n",
    "from tqdm.auto import tqdm\n",
    "import os\n",
    "\n",
    "# 🔧 Désactiver les widgets et les warnings\n",
    "os.environ[\"TOKENIZERS_PARALLELISM\"] = \"false\"\n",
    "os.environ[\"TQDM_DISABLE\"] = \"1\"\n",
    "\n",
    "# 📌 Charger le modèle arabe BERT\n",
    "model_name = \"asafaya/bert-base-arabic\"\n",
    "device = torch.device('cuda' if torch.cuda.is_available() else 'cpu')\n",
    "\n",
    "tokenizer = AutoTokenizer.from_pretrained(model_name)\n",
    "model = AutoModel.from_pretrained(model_name).to(device)\n",
    "model.eval()\n",
    "\n",
    "# 🧾 Fonction d'embedding\n",
    "def get_bert_embedding(text):\n",
    "    inputs = tokenizer(text, return_tensors='pt', truncation=True, padding='max_length', max_length=512)\n",
    "    inputs = {k: v.to(device) for k, v in inputs.items()}\n",
    "    with torch.no_grad():\n",
    "        outputs = model(**inputs)\n",
    "    return outputs.last_hidden_state.mean(dim=1).squeeze().cpu().numpy()\n",
    "\n",
    "# ⏳ Vectorisation des textes\n",
    "bert_vectors = []\n",
    "\n",
    "for i, text in enumerate(tqdm(df['full_text'].tolist(), desc=\"Vectorisation BERT\", ncols=100, leave=False)):\n",
    "    try:\n",
    "        emb = get_bert_embedding(text)\n",
    "    except Exception as e:\n",
    "        print(f\"Erreur à la ligne {i}: {e}\")\n",
    "        emb = np.zeros(768)  # vecteur neutre en cas d’erreur\n",
    "    bert_vectors.append(emb)\n",
    "\n",
    "bert_vectors = np.array(bert_vectors)\n"
   ]
  },
  {
   "cell_type": "code",
   "execution_count": null,
   "id": "f6a4bb59-f199-4d35-a428-c90c53d5e805",
   "metadata": {},
   "outputs": [],
   "source": [
    "# 🧮 Étape 5 : Encodage des autres colonnes\n",
    "other_features = pd.DataFrame()\n",
    "\n",
    "# Tags (textuels)\n",
    "if 'tags' in df.columns:\n",
    "    df['tags'] = df['tags'].fillna(\"\")\n",
    "    other_features['tags'] = df['tags']\n",
    "\n",
    "# Encodage OneHot\n",
    "encoder = OneHotEncoder(sparse_output=False, handle_unknown='ignore')\n",
    "encoded_features = encoder.fit_transform(other_features)"
   ]
  },
  {
   "cell_type": "code",
   "execution_count": null,
   "id": "985a1ec7-4e47-4bea-9bb3-71f739b079ba",
   "metadata": {},
   "outputs": [],
   "source": [
    "# 🎛️ Étape 6 : Combinaison et pondération\n",
    "# On va accorder plus de poids au BERT (titre + contenu) et à la date\n",
    "scaler = MinMaxScaler()\n",
    "date_scaled = scaler.fit_transform(df[['timestamp']])\n",
    "\n",
    "# Pondération\n",
    "bert_weight = 3.0\n",
    "date_weight = 2.0\n",
    "other_weight = 1.0\n",
    "\n",
    "combined_features = np.hstack([\n",
    "    bert_vectors * bert_weight,\n",
    "    date_scaled * date_weight,\n",
    "    encoded_features * other_weight\n",
    "])"
   ]
  },
  {
   "cell_type": "code",
   "execution_count": null,
   "id": "a41a7599-2d28-4ef8-b0ec-f7515f6ad5e6",
   "metadata": {},
   "outputs": [],
   "source": [
    "# 📊 Étape 7 : Clustering K-means\n",
    "k = 3  # Choisir le nombre de clusters\n",
    "kmeans = KMeans(n_clusters=k, random_state=42)\n",
    "df['cluster'] = kmeans.fit_predict(combined_features)"
   ]
  },
  {
   "cell_type": "code",
   "execution_count": null,
   "id": "b89f7acb-23b7-46ba-9332-977241584b25",
   "metadata": {},
   "outputs": [],
   "source": [
    "print(df['cluster'].value_counts().sort_index())\n"
   ]
  },
  {
   "cell_type": "code",
   "execution_count": null,
   "id": "0572cb4f-7289-4e15-810d-cc4702b70bb8",
   "metadata": {},
   "outputs": [],
   "source": [
    "# 📉 Étape 8 : Visualisation en 2D via PCA\n",
    "pca = PCA(n_components=2)\n",
    "pca_result = pca.fit_transform(combined_features)\n",
    "df['pca_1'] = pca_result[:, 0]\n",
    "df['pca_2'] = pca_result[:, 1]\n",
    "\n",
    "plt.figure(figsize=(10, 6))\n",
    "sns.scatterplot(data=df, x='pca_1', y='pca_2', hue='cluster', palette='tab10')\n",
    "plt.title(\"Clusters visualisés via PCA\")\n",
    "plt.show()\n",
    "\n",
    "# 🧾 Étape 9 : Aperçu des résultats\n",
    "print(df[['title', 'cluster']].head(20))"
   ]
  },
  {
   "cell_type": "code",
   "execution_count": null,
   "id": "c858532c-5ab5-4364-ba13-0429df223033",
   "metadata": {},
   "outputs": [],
   "source": [
    "from sklearn.metrics import silhouette_score\n",
    "\n",
    "score = silhouette_score(combined_features, df['cluster'])\n",
    "print(f\"Silhouette Score: {score:.3f}\")\n"
   ]
  },
  {
   "cell_type": "code",
   "execution_count": null,
   "id": "f349a0a2-0c1f-4d16-a364-a39b8ffcd415",
   "metadata": {},
   "outputs": [],
   "source": [
    "from sklearn.metrics import davies_bouldin_score\n",
    "\n",
    "db_score = davies_bouldin_score(combined_features, df['cluster'])\n",
    "print(f\"Davies-Bouldin Score: {db_score:.3f}\")\n"
   ]
  },
  {
   "cell_type": "code",
   "execution_count": 114,
   "id": "4d6394f2-82a2-47af-82f5-67660fb4ab59",
   "metadata": {},
   "outputs": [
    {
     "name": "stdout",
     "output_type": "stream",
     "text": [
      "Inertia: 317781.385\n"
     ]
    }
   ],
   "source": [
    "print(f\"Inertia: {kmeans.inertia_:.3f}\")\n"
   ]
  },
  {
   "cell_type": "code",
   "execution_count": 115,
   "id": "6405dd36-d503-4ef4-97cb-7169b989fd89",
   "metadata": {
    "scrolled": true
   },
   "outputs": [
    {
     "name": "stdout",
     "output_type": "stream",
     "text": [
      "k=2, silhouette_score=0.238\n",
      "k=3, silhouette_score=0.240\n",
      "k=4, silhouette_score=0.167\n",
      "k=5, silhouette_score=0.175\n",
      "k=6, silhouette_score=0.179\n",
      "k=7, silhouette_score=0.177\n",
      "k=8, silhouette_score=0.036\n",
      "k=9, silhouette_score=0.038\n",
      "k=10, silhouette_score=0.040\n",
      "k=11, silhouette_score=0.034\n",
      "k=12, silhouette_score=0.039\n",
      "k=13, silhouette_score=0.042\n",
      "k=14, silhouette_score=0.043\n",
      "k=15, silhouette_score=0.041\n",
      "k=16, silhouette_score=0.041\n",
      "k=17, silhouette_score=0.039\n",
      "k=18, silhouette_score=0.044\n",
      "k=19, silhouette_score=0.043\n",
      "k=20, silhouette_score=0.034\n",
      "k=21, silhouette_score=0.029\n",
      "k=22, silhouette_score=0.031\n",
      "k=23, silhouette_score=0.031\n",
      "k=24, silhouette_score=0.033\n",
      "k=25, silhouette_score=0.028\n",
      "k=26, silhouette_score=0.029\n",
      "k=27, silhouette_score=0.029\n",
      "k=28, silhouette_score=0.032\n",
      "k=29, silhouette_score=0.031\n",
      "k=30, silhouette_score=0.030\n",
      "k=31, silhouette_score=0.030\n",
      "k=32, silhouette_score=0.030\n",
      "k=33, silhouette_score=0.029\n",
      "k=34, silhouette_score=0.029\n",
      "k=35, silhouette_score=0.030\n",
      "k=36, silhouette_score=0.031\n",
      "k=37, silhouette_score=0.031\n",
      "k=38, silhouette_score=0.027\n",
      "k=39, silhouette_score=0.026\n",
      "k=40, silhouette_score=0.027\n",
      "k=41, silhouette_score=0.027\n",
      "k=42, silhouette_score=0.026\n",
      "k=43, silhouette_score=0.026\n",
      "k=44, silhouette_score=0.026\n",
      "k=45, silhouette_score=0.027\n",
      "k=46, silhouette_score=0.027\n",
      "k=47, silhouette_score=0.026\n",
      "k=48, silhouette_score=0.026\n",
      "k=49, silhouette_score=0.026\n",
      "k=50, silhouette_score=0.027\n",
      "k=51, silhouette_score=0.027\n",
      "k=52, silhouette_score=0.027\n",
      "k=53, silhouette_score=0.027\n",
      "k=54, silhouette_score=0.027\n",
      "k=55, silhouette_score=0.030\n",
      "k=56, silhouette_score=0.030\n",
      "k=57, silhouette_score=0.030\n",
      "k=58, silhouette_score=0.030\n",
      "k=59, silhouette_score=0.029\n",
      "k=60, silhouette_score=0.029\n",
      "k=61, silhouette_score=0.029\n",
      "k=62, silhouette_score=0.029\n",
      "k=63, silhouette_score=0.030\n",
      "k=64, silhouette_score=0.030\n",
      "k=65, silhouette_score=0.029\n",
      "k=66, silhouette_score=0.029\n",
      "k=67, silhouette_score=0.030\n",
      "k=68, silhouette_score=0.030\n",
      "k=69, silhouette_score=0.032\n",
      "k=70, silhouette_score=0.031\n",
      "k=71, silhouette_score=0.030\n",
      "k=72, silhouette_score=0.031\n",
      "k=73, silhouette_score=0.031\n",
      "k=74, silhouette_score=0.031\n",
      "k=75, silhouette_score=0.032\n",
      "k=76, silhouette_score=0.033\n",
      "k=77, silhouette_score=0.034\n",
      "k=78, silhouette_score=0.034\n",
      "k=79, silhouette_score=0.034\n",
      "k=80, silhouette_score=0.033\n",
      "k=81, silhouette_score=0.034\n",
      "k=82, silhouette_score=0.032\n",
      "k=83, silhouette_score=0.032\n",
      "k=84, silhouette_score=0.032\n",
      "k=85, silhouette_score=0.032\n",
      "k=86, silhouette_score=0.034\n",
      "k=87, silhouette_score=0.034\n",
      "k=88, silhouette_score=0.034\n",
      "k=89, silhouette_score=0.034\n",
      "\n",
      "✅ Meilleur nombre de clusters : k=3 avec un score de 0.240\n"
     ]
    },
    {
     "data": {
      "image/png": "[encoded data removed]",
      "text/plain": [
       "<Figure size 640x480 with 1 Axes>"
      ]
     },
     "metadata": {},
     "output_type": "display_data"
    }
   ],
   "source": [
    "from sklearn.cluster import KMeans\n",
    "from sklearn.metrics import silhouette_score\n",
    "import matplotlib.pyplot as plt\n",
    "\n",
    "best_score = -1\n",
    "best_k = 2\n",
    "scores = []\n",
    "\n",
    "# Tester k de 2 à 10\n",
    "for k in range(2, 90):\n",
    "    kmeans = KMeans(n_clusters=k, random_state=42, n_init='auto')\n",
    "    labels = kmeans.fit_predict(combined_features)\n",
    "    score = silhouette_score(combined_features, labels)\n",
    "    scores.append(score)\n",
    "    \n",
    "    print(f\"k={k}, silhouette_score={score:.3f}\")\n",
    "    \n",
    "    if score > best_score:\n",
    "        best_score = score\n",
    "        best_k = k\n",
    "\n",
    "print(f\"\\n✅ Meilleur nombre de clusters : k={best_k} avec un score de {best_score:.3f}\")\n",
    "plt.plot(range(2, 90), scores, marker='o')\n",
    "plt.title(\"Silhouette Score vs Nombre de Clusters\")\n",
    "plt.xlabel(\"k (nombre de clusters)\")\n",
    "plt.ylabel(\"Silhouette Score\")\n",
    "plt.grid(True)\n",
    "plt.show()\n"
   ]
  },
  {
   "cell_type": "code",
   "execution_count": 116,
   "id": "16d6f3b6-467c-4b90-b30d-014e7351df96",
   "metadata": {},
   "outputs": [],
   "source": [
    "final_kmeans = KMeans(n_clusters=best_k, random_state=42, n_init='auto')\n",
    "df['cluster'] = final_kmeans.fit_predict(combined_features)\n"
   ]
  },
  {
   "cell_type": "code",
   "execution_count": 117,
   "id": "81067cc5-80c9-4e06-bb5f-347e5ee8c827",
   "metadata": {},
   "outputs": [],
   "source": [
    "from sklearn.decomposition import PCA\n",
    "\n",
    "pca = PCA(n_components=100)  # ou 50 selon le dataset\n",
    "reduced_features = pca.fit_transform(combined_features)\n"
   ]
  },
  {
   "cell_type": "code",
   "execution_count": 118,
   "id": "271af72f-a036-41bd-acf1-ae1a33920be1",
   "metadata": {},
   "outputs": [],
   "source": [
    "kmeans = KMeans(n_clusters=15, random_state=42, n_init=10)\n",
    "df['cluster'] = kmeans.fit_predict(combined_features)"
   ]
  },
  {
   "cell_type": "code",
   "execution_count": 119,
   "id": "1935880e-026d-49d5-aee5-d00046a25e98",
   "metadata": {},
   "outputs": [
    {
     "name": "stdout",
     "output_type": "stream",
     "text": [
      "Silhouette Score: 0.040\n"
     ]
    }
   ],
   "source": [
    "score = silhouette_score(combined_features, df['cluster'])\n",
    "print(f\"Silhouette Score: {score:.3f}\")\n"
   ]
  },
  {
   "cell_type": "code",
   "execution_count": null,
   "id": "be5491d5-88bb-40af-af5f-f83b32467c2c",
   "metadata": {},
   "outputs": [],
   "source": []
  },
  {
   "cell_type": "code",
   "execution_count": null,
   "id": "f51f5d24-8469-4ca2-9137-09c9e0c01ed1",
   "metadata": {},
   "outputs": [],
   "source": []
  },
  {
   "cell_type": "code",
   "execution_count": null,
   "id": "f23985fa-9d3f-45ed-ae1e-a6dbe6c31547",
   "metadata": {},
   "outputs": [],
   "source": []
  },
  {
   "cell_type": "code",
   "execution_count": null,
   "id": "092891a7-373d-4bf9-90e0-1e5d7bfd21c0",
   "metadata": {},
   "outputs": [],
   "source": []
  },
  {
   "cell_type": "code",
   "execution_count": null,
   "id": "9f935d63-afff-4d8e-a1df-cf02b6306fbb",
   "metadata": {},
   "outputs": [],
   "source": []
  }
 ],
 "metadata": {
  "kernelspec": {
   "display_name": "Python 3 (ipykernel)",
   "language": "python",
   "name": "python3"
  },
  "language_info": {
   "codemirror_mode": {
    "name": "ipython",
    "version": 3
   },
   "file_extension": ".py",
   "mimetype": "text/x-python",
   "name": "python",
   "nbconvert_exporter": "python",
   "pygments_lexer": "ipython3",
   "version": "3.12.4"
  }
 },
 "nbformat": 4,
 "nbformat_minor": 5
}
